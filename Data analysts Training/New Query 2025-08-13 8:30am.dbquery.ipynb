{
 "cells": [
  {
   "cell_type": "code",
   "execution_count": 0,
   "metadata": {
    "application/vnd.databricks.v1+cell": {
     "cellMetadata": {
      "byteLimit": 10485760,
      "rowLimit": 1000
     },
     "inputWidgets": {},
     "nuid": "854297bb-e627-4c33-a7a4-26204a72e746",
     "showTitle": false,
     "tableResultSettingsMap": {},
     "title": ""
    }
   },
   "outputs": [],
   "source": [
    "create schema if not exists investment.Trade;\n",
    "\n",
    "Create volume if not exists trade.Portfolio;\n",
    "\n",
    "\n",
    "Create Table if not exists Outcome as\n",
    "SELECt * FROM read_files(\"/Volumes/investment/trade/portfolio\",Format => 'CSV');\n",
    "\n",
    "select count(CURRENTSTATUS) as Current_status,sum(REALIZEDPNL) as Realized from outcome group by CURRENTSTATUS\n",
    "\n",
    "\n",
    "\n",
    "\n",
    "\n",
    "\n",
    "\n",
    "\n",
    "\n"
   ]
  }
 ],
 "metadata": {
  "application/vnd.databricks.v1+notebook": {
   "computePreferences": null,
   "dashboards": [],
   "environmentMetadata": null,
   "inputWidgetPreferences": null,
   "language": "sql",
   "notebookMetadata": {
    "pythonIndentUnit": 4,
    "sqlQueryOptions": {
     "applyAutoLimit": true,
     "catalog": "investment",
     "schema": "trade"
    }
   },
   "notebookName": "New Query 2025-08-13 8:30am.dbquery.ipynb",
   "widgets": {}
  },
  "language_info": {
   "name": "sql"
  }
 },
 "nbformat": 4,
 "nbformat_minor": 0
}
