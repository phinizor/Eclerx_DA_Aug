{
 "cells": [
  {
   "cell_type": "code",
   "execution_count": 0,
   "metadata": {
    "application/vnd.databricks.v1+cell": {
     "cellMetadata": {
      "byteLimit": 10485760,
      "rowLimit": 1000
     },
     "inputWidgets": {},
     "nuid": "a7328603-6522-4891-a36e-8fa817ce5203",
     "showTitle": false,
     "tableResultSettingsMap": {},
     "title": ""
    }
   },
   "outputs": [],
   "source": [
    "create table tranx (id int, name string, age int,year int, month int, price double);\n",
    "insert into tranx values (1,'a',30,2025,8,100),(2,'b',32,2025,8,100);\n",
    "select * from tranx;\n",
    "create table tranx_cleaned (id int, name string, age int,year int, month int, price double);\n",
    "select * from tranx;\n",
    "select distinct * from tranx_cleaned;\n",
    "--Append /Insert into - but it creates duplicates \n",
    "insert into tranx_cleaned select * from tranx;\n",
    "\n",
    "-- SCD - Slowly changing Dimension\n",
    "\n",
    "-- merge into command-- avoid duplicates \n",
    "create or replace table emp_cert_source (id int, name string, city string);\n",
    "insert into emp_cert_source values ( 1, 'Naval','Gujrat'),(2,'Satish','Mumbai'),(3,'Ravi','Nashik');\n",
    "select * from emp_cert_source;\n",
    "create table emp_cert (id int, name string, city string);\n",
    "--upsert == update and insert \n",
    "merge into emp_cert t\n",
    "using emp_cert_source s\n",
    "on t.id = s.id\n",
    "when matched then update set *\n",
    "when not matched then insert *;\n",
    "select * from emp_cert_source;\n",
    "select * from emp_cert;\n",
    "\n",
    "-- Copy into Commmand helps in working on incremently data\n",
    "\n",
    "create table eclerx.paresh.address as\n",
    "select * from read_files(\"/Volumes/eclerx/paresh/phinix/Address/add_1.csv\",format => 'csv');\n",
    "select * from eclerx.paresh.address;\n",
    "\n",
    "copy into address \n",
    "from \"/Volumes/eclerx/paresh/phinix/Address\"\n",
    "FILEFORMAT = csv\n",
    "FORMAT_OPTIONS (\"header\"='True',\n",
    "                \"inferSchema\"='True');\n",
    "select * from address;\n",
    "\n",
    "\n"
   ]
  }
 ],
 "metadata": {
  "application/vnd.databricks.v1+notebook": {
   "computePreferences": null,
   "dashboards": [],
   "environmentMetadata": null,
   "inputWidgetPreferences": null,
   "language": "sql",
   "notebookMetadata": {
    "pythonIndentUnit": 4,
    "sqlQueryOptions": {
     "applyAutoLimit": true,
     "catalog": "eclerx",
     "schema": "default"
    }
   },
   "notebookName": "insert into,Merger into,Copy into.dbquery.ipynb",
   "widgets": {}
  },
  "language_info": {
   "name": "sql"
  }
 },
 "nbformat": 4,
 "nbformat_minor": 0
}
