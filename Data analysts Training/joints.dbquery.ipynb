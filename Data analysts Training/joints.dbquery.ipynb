{
 "cells": [
  {
   "cell_type": "code",
   "execution_count": 0,
   "metadata": {
    "application/vnd.databricks.v1+cell": {
     "cellMetadata": {
      "byteLimit": 10485760,
      "rowLimit": 1000
     },
     "inputWidgets": {},
     "nuid": "b29654ab-6d8f-4aae-b679-e492dd63e0ac",
     "showTitle": false,
     "tableResultSettingsMap": {},
     "title": ""
    }
   },
   "outputs": [],
   "source": [
    "select f.name,f.city,f.country,sum(t.totalPrice) as Total_sales from sales_franchises as f\n",
    "join sales_transactions as t on f.franchiseID = t.franchiseID\n",
    "group by f.name,f.country,f.city\n",
    "order by total_sales desc;\n",
    "\n",
    "-- joints\n",
    "--create table sales (order_id int , customer_id int, qty int, price double );\n",
    "--insert into sales values (1,1,10,100),(2,2,12,200),(3,3,45,500);\n",
    "--insert into sales values(1,1,10,100) \n",
    "--create table customers (customer_id int, name string);\n",
    "--insert into customers values (1,'John'),(2,'Naval'),(4,'Puneet');\n",
    "\n",
    "--Inner joint\n",
    "select s.customer_id,c.name,s.price*s.qty as Total_price from sales s\n",
    "join customers c on c.customer_id = s.customer_id;\n",
    "\n",
    "--left/right  joint\n",
    "select s.customer_id,c.name,s.price*s.qty as Total_price from sales s\n",
    "left join customers c on c.customer_id = s.customer_id;\n",
    "\n",
    "--Outer joint\n",
    "select c.customer_id,c.name,s.price*s.qty as Total_price from sales s\n",
    "right outer join customers c on s.customer_id = c.customer_id;\n",
    "\n",
    "--left/right anti join(all records apart from matching records)\n",
    "select s.customer_id,s.price*s.qty as Total_price from sales s\n",
    "left anti join customers c on s.customer_id = c.customer_id;\n",
    "\n",
    "-- left/right semi join(inner joint with no duplicates,will only take columns from the left table)\n",
    "\n",
    "select s.customer_id,s.price*s.qty as Total_price from sales s\n",
    "left semi join customers c on s.customer_id = c.customer_id\n",
    "\n",
    "\n",
    "\n",
    "\n",
    "\n",
    "\n",
    "\n",
    "\n",
    "\n",
    "\n"
   ]
  }
 ],
 "metadata": {
  "application/vnd.databricks.v1+notebook": {
   "computePreferences": null,
   "dashboards": [],
   "environmentMetadata": null,
   "inputWidgetPreferences": null,
   "language": "sql",
   "notebookMetadata": {
    "pythonIndentUnit": 4,
    "sqlQueryOptions": {
     "applyAutoLimit": true,
     "catalog": "eclerx",
     "schema": "formula1"
    }
   },
   "notebookName": "joints.dbquery.ipynb",
   "widgets": {}
  },
  "language_info": {
   "name": "sql"
  }
 },
 "nbformat": 4,
 "nbformat_minor": 0
}
