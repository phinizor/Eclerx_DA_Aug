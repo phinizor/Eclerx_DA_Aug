{
 "cells": [
  {
   "cell_type": "code",
   "execution_count": 0,
   "metadata": {
    "application/vnd.databricks.v1+cell": {
     "cellMetadata": {
      "byteLimit": 10485760,
      "rowLimit": 1000
     },
     "inputWidgets": {},
     "nuid": "bae3c2ed-7531-44a8-9913-36e328917711",
     "showTitle": false,
     "tableResultSettingsMap": {},
     "title": ""
    }
   },
   "outputs": [],
   "source": [
    "-- window functions: row_number, rank, dense_rank, percent_rank\n",
    "--select *, row_number() over (order by salary desc) as row_number from emp;\n",
    "--select *, rank() over (order by salary desc) as rank from emp;\n",
    "--select *, dense_rank() over (order by salary desc) as dense_rank from emp;\n",
    "--select *, percent_rank() over ( order by salary desc) as percent from emp;\n",
    "-- other window functions lead, lag and ntile\n",
    "-- partitioning\n",
    "--select *, row_number() over (partition by department order by salary desc) as row_number from emp;\n",
    "--select *, rank() over (partition by department order by salary desc) as rank from emp;\n",
    "--select *, dense_rank() over (partition by department order by salary desc) as dense_rank from emp;\n",
    "--select *, percent_rank() over (partition by department order by salary desc) as percent from emp;\n",
    "\n",
    "CREATE TABLE IF NOT EXISTS comp_employee(\n",
    "  employee_name STRING,\n",
    "  department STRING,\n",
    "  salary INT\n",
    ");\n",
    "INSERT INTO  comp_employee\n",
    "  (employee_name, department, salary)\n",
    "VALUES\n",
    "  ('James', 'Sales', 3000),\n",
    "  ('Michael', 'Sales', 4600),\n",
    "  ('Robert', 'Sales', 4100),\n",
    "  ('Maria', 'Finance', 3000),\n",
    "  ('Jonny', 'Sales', 3000),\n",
    "  ('Scott', 'Finance', 3300),\n",
    "  ('Jen', 'Finance', 3900),\n",
    "  ('Jeff', 'Marketing', 3000),\n",
    "  ('Kumar', 'Marketing', 2000),\n",
    "  ('Saif', 'Sales', 4100);\n",
    "\n",
    "  SELECT * FROM comp_employee;\n",
    "  select *,dense_rank() over (partition by department order by salary desc) as rank  from comp_employee\n",
    "\n"
   ]
  }
 ],
 "metadata": {
  "application/vnd.databricks.v1+notebook": {
   "computePreferences": null,
   "dashboards": [],
   "environmentMetadata": null,
   "inputWidgetPreferences": null,
   "language": "sql",
   "notebookMetadata": {
    "pythonIndentUnit": 4,
    "sqlQueryOptions": {
     "applyAutoLimit": true,
     "catalog": "eclerx",
     "schema": "default"
    }
   },
   "notebookName": "Window Functions.dbquery.ipynb",
   "widgets": {}
  },
  "language_info": {
   "name": "sql"
  }
 },
 "nbformat": 4,
 "nbformat_minor": 0
}
