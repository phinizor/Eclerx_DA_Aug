{
 "cells": [
  {
   "cell_type": "code",
   "execution_count": 0,
   "metadata": {
    "application/vnd.databricks.v1+cell": {
     "cellMetadata": {
      "byteLimit": 10485760,
      "rowLimit": 1000
     },
     "inputWidgets": {},
     "nuid": "a7fc55ae-ab79-49ff-af55-cb9bf4194106",
     "showTitle": false,
     "tableResultSettingsMap": {},
     "title": ""
    }
   },
   "outputs": [],
   "source": [
    "-- view : a virtaul table with no storage\n",
    "-- types of views : 1.standard view(Persisted view,this get saved in catalog)\n",
    "--                  2.Temp view(Not saved,it will only be avalibale till the compute is on).\n",
    "\n",
    "-- Standard view\n",
    "create view if not exists circuit_countname as\n",
    "select country,count(country) as count from eclerx.formula1.circuit group by country order by count desc;\n",
    "\n",
    "select * from circuit_countname;\n",
    "\n",
    "-- Temp View\n",
    "\n",
    "create temp view location_Dist as \n",
    "select distinct location from eclerx.formula1.circuit;\n",
    "\n",
    "select * from location_dist;\n",
    "\n",
    "-- After terminating the compute\n",
    "\n",
    "select * from circuit_countname;\n",
    "\n",
    "select * from location_dist"
   ]
  }
 ],
 "metadata": {
  "application/vnd.databricks.v1+notebook": {
   "computePreferences": null,
   "dashboards": [],
   "environmentMetadata": null,
   "inputWidgetPreferences": null,
   "language": "sql",
   "notebookMetadata": {
    "pythonIndentUnit": 4,
    "sqlQueryOptions": {
     "applyAutoLimit": true,
     "catalog": "eclerx",
     "schema": "formula1"
    }
   },
   "notebookName": "Views.dbquery.ipynb",
   "widgets": {}
  },
  "language_info": {
   "name": "sql"
  }
 },
 "nbformat": 4,
 "nbformat_minor": 0
}
