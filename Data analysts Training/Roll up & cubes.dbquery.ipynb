{
 "cells": [
  {
   "cell_type": "code",
   "execution_count": 0,
   "metadata": {
    "application/vnd.databricks.v1+cell": {
     "cellMetadata": {
      "byteLimit": 10485760,
      "rowLimit": 1000
     },
     "inputWidgets": {},
     "nuid": "0577d856-12b9-4859-b3f7-99225016c9ad",
     "showTitle": false,
     "tableResultSettingsMap": {},
     "title": ""
    }
   },
   "outputs": [],
   "source": [
    "CREATE OR REPLACE TABLE retail_sales (\n",
    "  region STRING,\n",
    "  store STRING,\n",
    "  year INT,\n",
    "  sales INT\n",
    ");\n",
    "INSERT INTO retail_sales VALUES\n",
    "('West', 'Store A', 2023, 100),\n",
    "('West', 'Store A', 2024, 150),\n",
    "('West', 'Store B', 2023, 200),\n",
    "('West', 'Store B', 2024, 250),\n",
    "('East', 'Store C', 2023, 300),\n",
    "('East', 'Store C', 2024, 350),\n",
    "('East', 'Store D', 2023, 400),\n",
    "('East', 'Store D', 2024, 450);\n",
    "\n",
    "select * from retail_sales;\n",
    "\n",
    "--Roll up - (it goes in hierarchy - aggregated data based on the order of the columns provided)\n",
    "select year,region,store,sum(sales) as total \n",
    "from retail_sales \n",
    "group by rollup (year,region,store) \n",
    "order by year,region,store;\n",
    "\n",
    "--Cube - (gives out all possible combinations,doesnt followed hierarchy)\n",
    "select year,region,store, sum(sales) as total \n",
    "from retail_sales \n",
    "group by cube(year,region,store)\n",
    "order by region,store,year"
   ]
  }
 ],
 "metadata": {
  "application/vnd.databricks.v1+notebook": {
   "computePreferences": null,
   "dashboards": [],
   "environmentMetadata": null,
   "inputWidgetPreferences": null,
   "language": "sql",
   "notebookMetadata": {
    "pythonIndentUnit": 4,
    "sqlQueryOptions": {
     "applyAutoLimit": true,
     "catalog": "eclerx",
     "schema": "default"
    }
   },
   "notebookName": "Roll up & cubes.dbquery.ipynb",
   "widgets": {}
  },
  "language_info": {
   "name": "sql"
  }
 },
 "nbformat": 4,
 "nbformat_minor": 0
}
