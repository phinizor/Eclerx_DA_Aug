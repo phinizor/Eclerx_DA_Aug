{
 "cells": [
  {
   "cell_type": "code",
   "execution_count": 0,
   "metadata": {
    "application/vnd.databricks.v1+cell": {
     "cellMetadata": {
      "byteLimit": 10485760,
      "rowLimit": 1000
     },
     "inputWidgets": {},
     "nuid": "c384acfa-c386-4e4b-a7ab-2e747f81a7a1",
     "showTitle": false,
     "tableResultSettingsMap": {},
     "title": ""
    }
   },
   "outputs": [],
   "source": [
    "-- types of tables\n",
    "--managed table & external table(unmanaged Table)\n",
    "-- delta lakes(lakeshouse) - (parquet files(conpressed) + delta log)\n",
    "-- how to create external table.\n",
    "--create table table_name location'' \n",
    "-- when we drop the manage table .it deletes all data and table including parquet files and data logs\n",
    "-- when we drop the external table.it deletes all data and table in databricks .but parquet files and data logs are untouched in the external storage provided.we can retrive the data by using sytax select * from delta.'Location'\n",
    "\n",
    "create table emp (id int, name string);\n",
    "insert into emp values (1,'Naval');\n",
    "insert into emp values (2,'Vashnavi'),(3,'Abhishek');\n",
    "select * from emp;\n",
    "delete from emp where id=1;\n",
    "desc history emp;\n",
    "select * from emp version as of 2;"
   ]
  }
 ],
 "metadata": {
  "application/vnd.databricks.v1+notebook": {
   "computePreferences": null,
   "dashboards": [],
   "environmentMetadata": null,
   "inputWidgetPreferences": null,
   "language": "sql",
   "notebookMetadata": {
    "pythonIndentUnit": 4,
    "sqlQueryOptions": {
     "applyAutoLimit": true,
     "catalog": "eclerx",
     "schema": "default"
    }
   },
   "notebookName": "Types of tables.dbquery.ipynb",
   "widgets": {}
  },
  "language_info": {
   "name": "sql"
  }
 },
 "nbformat": 4,
 "nbformat_minor": 0
}
