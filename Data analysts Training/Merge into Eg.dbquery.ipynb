{
 "cells": [
  {
   "cell_type": "code",
   "execution_count": 0,
   "metadata": {
    "application/vnd.databricks.v1+cell": {
     "cellMetadata": {
      "byteLimit": 10485760,
      "rowLimit": 1000
     },
     "inputWidgets": {},
     "nuid": "592c6180-7d91-44de-be1e-b14588244361",
     "showTitle": false,
     "tableResultSettingsMap": {},
     "title": ""
    }
   },
   "outputs": [],
   "source": [
    "create or replace table emp_Raw(emp_id int,name string,Age int,salary int);\n",
    "insert into emp_Raw (emp_id , name ,Age,salary) \n",
    "  values(1,'John',20,25000),(2,'Jane',25,30000),(3,'Joy',30,50000);\n",
    "\n",
    "select * from emp_Raw;\n",
    "\n",
    "create or replace table emp_Sorted(emp_id int,name string,Age int,salary int);\n",
    "merge into emp_Sorted s\n",
    "using emp_Raw r\n",
    "on s.emp_id=r.emp_id\n",
    "when matched then update set *\n",
    "when not matched then insert *;\n",
    "select * from emp_Sorted\n",
    "\n",
    "\n",
    "\n",
    "\n",
    "\n",
    " "
   ]
  }
 ],
 "metadata": {
  "application/vnd.databricks.v1+notebook": {
   "computePreferences": null,
   "dashboards": [],
   "environmentMetadata": null,
   "inputWidgetPreferences": null,
   "language": "sql",
   "notebookMetadata": {
    "pythonIndentUnit": 4,
    "sqlQueryOptions": {
     "applyAutoLimit": true,
     "catalog": "eclerx",
     "schema": "default"
    }
   },
   "notebookName": "Merge into Eg.dbquery.ipynb",
   "widgets": {}
  },
  "language_info": {
   "name": "sql"
  }
 },
 "nbformat": 4,
 "nbformat_minor": 0
}
