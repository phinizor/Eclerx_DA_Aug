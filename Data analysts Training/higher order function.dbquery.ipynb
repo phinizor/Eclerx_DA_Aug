{
 "cells": [
  {
   "cell_type": "code",
   "execution_count": 0,
   "metadata": {
    "application/vnd.databricks.v1+cell": {
     "cellMetadata": {
      "byteLimit": 10485760,
      "rowLimit": 1000
     },
     "inputWidgets": {},
     "nuid": "5bfc6902-1acc-493d-93a3-d787b1385675",
     "showTitle": false,
     "tableResultSettingsMap": {},
     "title": ""
    }
   },
   "outputs": [],
   "source": [
    "--explode command - it will convert an array into a normal rows\n",
    "-- Filter Command - it will filter the Array Filter(Array clm name,x -> x(condition))\n",
    "-- Transform Command -It Tranform the array(Array clm name,x -> F(x)(Does any aggregation))\n",
    "create table eclerx.paresh.emp_high\n",
    "select * from eclerx.paresh.emp_high; \n",
    "select id, name, explode(mo) as new_mo from eclerx.paresh.emp_high; "
   ]
  }
 ],
 "metadata": {
  "application/vnd.databricks.v1+notebook": {
   "computePreferences": null,
   "dashboards": [],
   "environmentMetadata": null,
   "inputWidgetPreferences": null,
   "language": "sql",
   "notebookMetadata": {
    "pythonIndentUnit": 4,
    "sqlQueryOptions": {
     "applyAutoLimit": true,
     "catalog": "workspace",
     "schema": "default"
    }
   },
   "notebookName": "higher order function.dbquery.ipynb",
   "widgets": {}
  },
  "language_info": {
   "name": "sql"
  }
 },
 "nbformat": 4,
 "nbformat_minor": 0
}
