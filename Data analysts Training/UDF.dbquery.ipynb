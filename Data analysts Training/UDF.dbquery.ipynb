{
 "cells": [
  {
   "cell_type": "code",
   "execution_count": 0,
   "metadata": {
    "application/vnd.databricks.v1+cell": {
     "cellMetadata": {
      "byteLimit": 10485760,
      "rowLimit": 1000
     },
     "inputWidgets": {},
     "nuid": "dcf0e54c-5cae-4998-8cd4-6d607677eef3",
     "showTitle": false,
     "tableResultSettingsMap": {},
     "title": ""
    }
   },
   "outputs": [],
   "source": [
    "--syntax\n",
    "--create function function_name(para datatypes)\n",
    "--returns dataype\n",
    "--return logic \n",
    "-- https://youtu.be/UdMKgKcADn8 -- need to see the video -- Datamaster(Youtube channel).\n",
    "\n",
    "create or replace function eclerx.paresh.fullname(First_word string,last_word string)\n",
    "returns string\n",
    "return concat(First_word ,' ',last_word);\n",
    "\n",
    "select eclerx.paresh.fullname(email_address,address) as Fullname from sales_customers;\n",
    "\n",
    "select * from sales_transactions;\n",
    "\n",
    "create or replace function eclerx.paresh.total_price_ver(Quant int,unitPrice int)\n",
    "returns int\n",
    "return quant*unitPrice;\n",
    "\n",
    "select eclerx.paresh.total_price_ver(quantity,unitprice) as total_Price_verified,totalPrice from sales_transactions"
   ]
  }
 ],
 "metadata": {
  "application/vnd.databricks.v1+notebook": {
   "computePreferences": null,
   "dashboards": [],
   "environmentMetadata": null,
   "inputWidgetPreferences": null,
   "language": "sql",
   "notebookMetadata": {
    "pythonIndentUnit": 4,
    "sqlQueryOptions": {
     "applyAutoLimit": true,
     "catalog": "samples",
     "schema": "bakehouse"
    }
   },
   "notebookName": "UDF.dbquery.ipynb",
   "widgets": {}
  },
  "language_info": {
   "name": "sql"
  }
 },
 "nbformat": 4,
 "nbformat_minor": 0
}
