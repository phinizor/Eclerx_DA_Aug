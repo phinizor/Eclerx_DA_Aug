{
 "cells": [
  {
   "cell_type": "code",
   "execution_count": 0,
   "metadata": {
    "application/vnd.databricks.v1+cell": {
     "cellMetadata": {
      "byteLimit": 10485760,
      "rowLimit": 1000
     },
     "inputWidgets": {},
     "nuid": "b7b898c9-4b3e-4497-82cb-f8a2016bba95",
     "showTitle": false,
     "tableResultSettingsMap": {},
     "title": ""
    }
   },
   "outputs": [],
   "source": [
    "-- genie  is the ai bot which will help to\n",
    "\n",
    "--Alerts \n",
    "DROP TABLE IF EXISTS eclerx.paresh.heart_rate;\n",
    "\n",
    "CREATE TABLE eclerx.paresh.heart_rate (\n",
    "    minute_no INT,\n",
    "    heartbeat INT\n",
    ");\n",
    "\n",
    "INSERT INTO eclerx.paresh.heart_rate (minute_no, heartbeat)\n",
    "VALUES \n",
    "    (1, 110),\n",
    "    (2, 120),\n",
    "    (3, 140);\n",
    "\n",
    "    SELECT * FROM eclerx.paresh.heart_rate;\n",
    "\n",
    "    --para fuction\n",
    "\n",
    "  SELECT * FROM eclerx.formula1.circuit;\n",
    "\n",
    "  select * from eclerx.formula1.circuit\n",
    "     where country = :country and location =:location\n",
    "\n",
    "    \n",
    "\n",
    "\n",
    "\n"
   ]
  }
 ],
 "metadata": {
  "application/vnd.databricks.v1+notebook": {
   "computePreferences": null,
   "dashboards": [],
   "environmentMetadata": null,
   "inputWidgetPreferences": null,
   "language": "sql",
   "notebookMetadata": {
    "pythonIndentUnit": 4,
    "sqlQueryOptions": {
     "applyAutoLimit": true,
     "catalog": "workspace",
     "schema": "default"
    }
   },
   "notebookName": "Alerts ,Geneie & Parameter fuction.dbquery.ipynb",
   "widgets": {
    "country": {
     "currentValue": "",
     "nuid": "84fa8205-343b-4b67-996c-5472b6c62cfc",
     "typedWidgetInfo": {
      "autoCreated": true,
      "defaultValue": "",
      "label": null,
      "name": "country",
      "options": {
       "widgetDisplayType": "Text",
       "validationRegex": null
      },
      "parameterDataType": "String"
     },
     "widgetInfo": {
      "widgetType": "text",
      "defaultValue": "",
      "label": null,
      "name": "country",
      "options": {
       "widgetType": "text",
       "autoCreated": true,
       "validationRegex": null
      }
     }
    },
    "location": {
     "currentValue": "melbourne",
     "nuid": "efb018f9-395c-4b35-af8a-500bb1284ec4",
     "typedWidgetInfo": {
      "autoCreated": true,
      "defaultValue": "",
      "label": null,
      "name": "location",
      "options": {
       "widgetDisplayType": "Text",
       "validationRegex": null
      },
      "parameterDataType": "String"
     },
     "widgetInfo": {
      "widgetType": "text",
      "defaultValue": "",
      "label": null,
      "name": "location",
      "options": {
       "widgetType": "text",
       "autoCreated": true,
       "validationRegex": null
      }
     }
    }
   }
  },
  "language_info": {
   "name": "sql"
  }
 },
 "nbformat": 4,
 "nbformat_minor": 0
}
